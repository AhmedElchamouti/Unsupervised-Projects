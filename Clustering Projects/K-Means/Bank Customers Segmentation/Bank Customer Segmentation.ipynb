{
 "cells": [
  {
   "cell_type": "markdown",
   "id": "dab08fef",
   "metadata": {
    "id": "dab08fef"
   },
   "source": [
    "# `Bank Customer Segmentation (KMeans)`"
   ]
  },
  {
   "cell_type": "markdown",
   "id": "09b65911",
   "metadata": {},
   "source": [
    "### Most banks have a large customer base - with different characteristics in terms of age, income, values, lifestyle, and more. Customer segmentation is the process of dividing a customer dataset into specific groups based on shared traits.\n",
    "\n",
    "### This dataset consists of 1 Million+ transaction by over 800K customers for a bank in India. The data contains information such as - customer age (DOB), location, gender, account balance at the time of the transaction, transaction details, transaction amount, etc. "
   ]
  },
  {
   "cell_type": "code",
   "execution_count": 56,
   "id": "25307953",
   "metadata": {
    "id": "25307953"
   },
   "outputs": [],
   "source": [
    "# Importing libraries\n",
    "import numpy as np\n",
    "import pandas as pd\n",
    "from datetime import date\n",
    "from datetime import datetime\n",
    "from dateutil.parser import parse\n",
    "import matplotlib.pyplot as plt\n",
    "import seaborn as sns\n",
    "import warnings\n",
    "warnings.filterwarnings('ignore')\n",
    "sns.set_theme(style='darkgrid')"
   ]
  },
  {
   "cell_type": "markdown",
   "id": "994e607d",
   "metadata": {
    "id": "994e607d"
   },
   "source": [
    "## Data Info"
   ]
  },
  {
   "cell_type": "code",
   "execution_count": 61,
   "id": "6d2fca80",
   "metadata": {
    "id": "6d2fca80",
    "outputId": "8adfabd3-88e2-48dc-b24e-68eedda0cacb",
    "scrolled": true
   },
   "outputs": [
    {
     "data": {
      "text/html": [
       "<div>\n",
       "<style scoped>\n",
       "    .dataframe tbody tr th:only-of-type {\n",
       "        vertical-align: middle;\n",
       "    }\n",
       "\n",
       "    .dataframe tbody tr th {\n",
       "        vertical-align: top;\n",
       "    }\n",
       "\n",
       "    .dataframe thead th {\n",
       "        text-align: right;\n",
       "    }\n",
       "</style>\n",
       "<table border=\"1\" class=\"dataframe\">\n",
       "  <thead>\n",
       "    <tr style=\"text-align: right;\">\n",
       "      <th></th>\n",
       "      <th>TransactionID</th>\n",
       "      <th>CustomerID</th>\n",
       "      <th>CustomerDOB</th>\n",
       "      <th>CustGender</th>\n",
       "      <th>CustLocation</th>\n",
       "      <th>CustAccountBalance</th>\n",
       "      <th>TransactionDate</th>\n",
       "      <th>TransactionTime</th>\n",
       "      <th>TransactionAmount (INR)</th>\n",
       "    </tr>\n",
       "  </thead>\n",
       "  <tbody>\n",
       "    <tr>\n",
       "      <th>879868</th>\n",
       "      <td>T879869</td>\n",
       "      <td>C7810711</td>\n",
       "      <td>23/11/74</td>\n",
       "      <td>M</td>\n",
       "      <td>MUMBAI</td>\n",
       "      <td>25632.23</td>\n",
       "      <td>8/9/16</td>\n",
       "      <td>220439</td>\n",
       "      <td>684.60</td>\n",
       "    </tr>\n",
       "    <tr>\n",
       "      <th>552356</th>\n",
       "      <td>T552357</td>\n",
       "      <td>C7737092</td>\n",
       "      <td>14/1/91</td>\n",
       "      <td>M</td>\n",
       "      <td>BANGALORE</td>\n",
       "      <td>20342.41</td>\n",
       "      <td>23/8/16</td>\n",
       "      <td>192620</td>\n",
       "      <td>816.00</td>\n",
       "    </tr>\n",
       "    <tr>\n",
       "      <th>399524</th>\n",
       "      <td>T399525</td>\n",
       "      <td>C5141480</td>\n",
       "      <td>1/11/67</td>\n",
       "      <td>M</td>\n",
       "      <td>NAVI MUMBAI</td>\n",
       "      <td>941037.00</td>\n",
       "      <td>18/8/16</td>\n",
       "      <td>133532</td>\n",
       "      <td>1981.00</td>\n",
       "    </tr>\n",
       "    <tr>\n",
       "      <th>870523</th>\n",
       "      <td>T870524</td>\n",
       "      <td>C3533453</td>\n",
       "      <td>18/4/88</td>\n",
       "      <td>M</td>\n",
       "      <td>REWARI</td>\n",
       "      <td>2370.82</td>\n",
       "      <td>8/9/16</td>\n",
       "      <td>181023</td>\n",
       "      <td>350.03</td>\n",
       "    </tr>\n",
       "    <tr>\n",
       "      <th>388450</th>\n",
       "      <td>T388451</td>\n",
       "      <td>C4731883</td>\n",
       "      <td>11/3/96</td>\n",
       "      <td>F</td>\n",
       "      <td>HYDERABAD</td>\n",
       "      <td>13754.19</td>\n",
       "      <td>13/8/16</td>\n",
       "      <td>180548</td>\n",
       "      <td>1012.00</td>\n",
       "    </tr>\n",
       "    <tr>\n",
       "      <th>260025</th>\n",
       "      <td>T260026</td>\n",
       "      <td>C1012322</td>\n",
       "      <td>NaN</td>\n",
       "      <td>M</td>\n",
       "      <td>NEW DELHI</td>\n",
       "      <td>152491.04</td>\n",
       "      <td>12/8/16</td>\n",
       "      <td>153807</td>\n",
       "      <td>472.82</td>\n",
       "    </tr>\n",
       "    <tr>\n",
       "      <th>499413</th>\n",
       "      <td>T499414</td>\n",
       "      <td>C5928730</td>\n",
       "      <td>17/7/65</td>\n",
       "      <td>M</td>\n",
       "      <td>THANE</td>\n",
       "      <td>37130.99</td>\n",
       "      <td>19/8/16</td>\n",
       "      <td>121215</td>\n",
       "      <td>1091.00</td>\n",
       "    </tr>\n",
       "    <tr>\n",
       "      <th>761274</th>\n",
       "      <td>T761275</td>\n",
       "      <td>C6816212</td>\n",
       "      <td>20/1/80</td>\n",
       "      <td>F</td>\n",
       "      <td>GURGAON</td>\n",
       "      <td>35315.86</td>\n",
       "      <td>1/9/16</td>\n",
       "      <td>173633</td>\n",
       "      <td>450.00</td>\n",
       "    </tr>\n",
       "    <tr>\n",
       "      <th>853575</th>\n",
       "      <td>T853576</td>\n",
       "      <td>C5830053</td>\n",
       "      <td>19/2/79</td>\n",
       "      <td>M</td>\n",
       "      <td>KALYAN EAST</td>\n",
       "      <td>48550.78</td>\n",
       "      <td>9/9/16</td>\n",
       "      <td>222735</td>\n",
       "      <td>950.00</td>\n",
       "    </tr>\n",
       "    <tr>\n",
       "      <th>445222</th>\n",
       "      <td>T445223</td>\n",
       "      <td>C7442191</td>\n",
       "      <td>2/2/80</td>\n",
       "      <td>M</td>\n",
       "      <td>RUDRAPUR</td>\n",
       "      <td>20458.57</td>\n",
       "      <td>16/8/16</td>\n",
       "      <td>145736</td>\n",
       "      <td>11.50</td>\n",
       "    </tr>\n",
       "    <tr>\n",
       "      <th>865234</th>\n",
       "      <td>T865235</td>\n",
       "      <td>C1180641</td>\n",
       "      <td>11/8/62</td>\n",
       "      <td>M</td>\n",
       "      <td>WEST MUMBAI</td>\n",
       "      <td>82263.95</td>\n",
       "      <td>8/9/16</td>\n",
       "      <td>115313</td>\n",
       "      <td>2000.00</td>\n",
       "    </tr>\n",
       "    <tr>\n",
       "      <th>118219</th>\n",
       "      <td>T118220</td>\n",
       "      <td>C3918319</td>\n",
       "      <td>3/10/90</td>\n",
       "      <td>M</td>\n",
       "      <td>ALLAHABAD</td>\n",
       "      <td>21218.66</td>\n",
       "      <td>6/8/16</td>\n",
       "      <td>143826</td>\n",
       "      <td>1136.00</td>\n",
       "    </tr>\n",
       "    <tr>\n",
       "      <th>912657</th>\n",
       "      <td>T912658</td>\n",
       "      <td>C2119349</td>\n",
       "      <td>11/5/87</td>\n",
       "      <td>F</td>\n",
       "      <td>CHENNAI</td>\n",
       "      <td>7590.04</td>\n",
       "      <td>12/9/16</td>\n",
       "      <td>191252</td>\n",
       "      <td>313.00</td>\n",
       "    </tr>\n",
       "    <tr>\n",
       "      <th>704423</th>\n",
       "      <td>T704424</td>\n",
       "      <td>C1221013</td>\n",
       "      <td>19/12/90</td>\n",
       "      <td>M</td>\n",
       "      <td>DELHI</td>\n",
       "      <td>15741.50</td>\n",
       "      <td>30/8/16</td>\n",
       "      <td>171522</td>\n",
       "      <td>243.00</td>\n",
       "    </tr>\n",
       "    <tr>\n",
       "      <th>133081</th>\n",
       "      <td>T133082</td>\n",
       "      <td>C5411640</td>\n",
       "      <td>5/7/87</td>\n",
       "      <td>M</td>\n",
       "      <td>GURDASPUR</td>\n",
       "      <td>10039.76</td>\n",
       "      <td>5/8/16</td>\n",
       "      <td>74747</td>\n",
       "      <td>82.00</td>\n",
       "    </tr>\n",
       "    <tr>\n",
       "      <th>690936</th>\n",
       "      <td>T690937</td>\n",
       "      <td>C2241757</td>\n",
       "      <td>18/8/75</td>\n",
       "      <td>F</td>\n",
       "      <td>NEW DELHI</td>\n",
       "      <td>750435.87</td>\n",
       "      <td>30/8/16</td>\n",
       "      <td>163113</td>\n",
       "      <td>561.00</td>\n",
       "    </tr>\n",
       "    <tr>\n",
       "      <th>736527</th>\n",
       "      <td>T736528</td>\n",
       "      <td>C8010760</td>\n",
       "      <td>4/8/92</td>\n",
       "      <td>M</td>\n",
       "      <td>VIJAYAWADA</td>\n",
       "      <td>3320.52</td>\n",
       "      <td>2/9/16</td>\n",
       "      <td>175137</td>\n",
       "      <td>1398.00</td>\n",
       "    </tr>\n",
       "    <tr>\n",
       "      <th>786069</th>\n",
       "      <td>T786070</td>\n",
       "      <td>C5332082</td>\n",
       "      <td>16/1/90</td>\n",
       "      <td>M</td>\n",
       "      <td>CHENNAI</td>\n",
       "      <td>27811.65</td>\n",
       "      <td>6/9/16</td>\n",
       "      <td>103202</td>\n",
       "      <td>300.00</td>\n",
       "    </tr>\n",
       "    <tr>\n",
       "      <th>145475</th>\n",
       "      <td>T145476</td>\n",
       "      <td>C6461814</td>\n",
       "      <td>29/3/87</td>\n",
       "      <td>M</td>\n",
       "      <td>DELHI</td>\n",
       "      <td>67163.67</td>\n",
       "      <td>5/8/16</td>\n",
       "      <td>193131</td>\n",
       "      <td>1000.00</td>\n",
       "    </tr>\n",
       "    <tr>\n",
       "      <th>389913</th>\n",
       "      <td>T389914</td>\n",
       "      <td>C5221728</td>\n",
       "      <td>18/1/94</td>\n",
       "      <td>M</td>\n",
       "      <td>SILIGURI</td>\n",
       "      <td>25884.61</td>\n",
       "      <td>13/8/16</td>\n",
       "      <td>213458</td>\n",
       "      <td>3828.00</td>\n",
       "    </tr>\n",
       "  </tbody>\n",
       "</table>\n",
       "</div>"
      ],
      "text/plain": [
       "       TransactionID CustomerID CustomerDOB CustGender CustLocation  \\\n",
       "879868       T879869   C7810711    23/11/74          M       MUMBAI   \n",
       "552356       T552357   C7737092     14/1/91          M    BANGALORE   \n",
       "399524       T399525   C5141480     1/11/67          M  NAVI MUMBAI   \n",
       "870523       T870524   C3533453     18/4/88          M       REWARI   \n",
       "388450       T388451   C4731883     11/3/96          F    HYDERABAD   \n",
       "260025       T260026   C1012322         NaN          M    NEW DELHI   \n",
       "499413       T499414   C5928730     17/7/65          M        THANE   \n",
       "761274       T761275   C6816212     20/1/80          F      GURGAON   \n",
       "853575       T853576   C5830053     19/2/79          M  KALYAN EAST   \n",
       "445222       T445223   C7442191      2/2/80          M     RUDRAPUR   \n",
       "865234       T865235   C1180641     11/8/62          M  WEST MUMBAI   \n",
       "118219       T118220   C3918319     3/10/90          M    ALLAHABAD   \n",
       "912657       T912658   C2119349     11/5/87          F      CHENNAI   \n",
       "704423       T704424   C1221013    19/12/90          M        DELHI   \n",
       "133081       T133082   C5411640      5/7/87          M    GURDASPUR   \n",
       "690936       T690937   C2241757     18/8/75          F    NEW DELHI   \n",
       "736527       T736528   C8010760      4/8/92          M   VIJAYAWADA   \n",
       "786069       T786070   C5332082     16/1/90          M      CHENNAI   \n",
       "145475       T145476   C6461814     29/3/87          M        DELHI   \n",
       "389913       T389914   C5221728     18/1/94          M     SILIGURI   \n",
       "\n",
       "        CustAccountBalance TransactionDate  TransactionTime  \\\n",
       "879868            25632.23          8/9/16           220439   \n",
       "552356            20342.41         23/8/16           192620   \n",
       "399524           941037.00         18/8/16           133532   \n",
       "870523             2370.82          8/9/16           181023   \n",
       "388450            13754.19         13/8/16           180548   \n",
       "260025           152491.04         12/8/16           153807   \n",
       "499413            37130.99         19/8/16           121215   \n",
       "761274            35315.86          1/9/16           173633   \n",
       "853575            48550.78          9/9/16           222735   \n",
       "445222            20458.57         16/8/16           145736   \n",
       "865234            82263.95          8/9/16           115313   \n",
       "118219            21218.66          6/8/16           143826   \n",
       "912657             7590.04         12/9/16           191252   \n",
       "704423            15741.50         30/8/16           171522   \n",
       "133081            10039.76          5/8/16            74747   \n",
       "690936           750435.87         30/8/16           163113   \n",
       "736527             3320.52          2/9/16           175137   \n",
       "786069            27811.65          6/9/16           103202   \n",
       "145475            67163.67          5/8/16           193131   \n",
       "389913            25884.61         13/8/16           213458   \n",
       "\n",
       "        TransactionAmount (INR)  \n",
       "879868                   684.60  \n",
       "552356                   816.00  \n",
       "399524                  1981.00  \n",
       "870523                   350.03  \n",
       "388450                  1012.00  \n",
       "260025                   472.82  \n",
       "499413                  1091.00  \n",
       "761274                   450.00  \n",
       "853575                   950.00  \n",
       "445222                    11.50  \n",
       "865234                  2000.00  \n",
       "118219                  1136.00  \n",
       "912657                   313.00  \n",
       "704423                   243.00  \n",
       "133081                    82.00  \n",
       "690936                   561.00  \n",
       "736527                  1398.00  \n",
       "786069                   300.00  \n",
       "145475                  1000.00  \n",
       "389913                  3828.00  "
      ]
     },
     "execution_count": 61,
     "metadata": {},
     "output_type": "execute_result"
    }
   ],
   "source": [
    "# Read Dataset\n",
    "df = pd.read_csv('bank_transactions.csv')\n",
    "df.sample(20)"
   ]
  },
  {
   "cell_type": "markdown",
   "id": "d2160f12",
   "metadata": {},
   "source": [
    "## EDA"
   ]
  },
  {
   "cell_type": "code",
   "execution_count": 62,
   "id": "7cb9b956",
   "metadata": {
    "id": "7cb9b956",
    "outputId": "91855a81-c86e-4a4b-8f37-a85f2963a0d6",
    "scrolled": true
   },
   "outputs": [
    {
     "name": "stdout",
     "output_type": "stream",
     "text": [
      "<class 'pandas.core.frame.DataFrame'>\n",
      "RangeIndex: 1048567 entries, 0 to 1048566\n",
      "Data columns (total 9 columns):\n",
      " #   Column                   Non-Null Count    Dtype  \n",
      "---  ------                   --------------    -----  \n",
      " 0   TransactionID            1048567 non-null  object \n",
      " 1   CustomerID               1048567 non-null  object \n",
      " 2   CustomerDOB              1045170 non-null  object \n",
      " 3   CustGender               1047467 non-null  object \n",
      " 4   CustLocation             1048416 non-null  object \n",
      " 5   CustAccountBalance       1046198 non-null  float64\n",
      " 6   TransactionDate          1048567 non-null  object \n",
      " 7   TransactionTime          1048567 non-null  int64  \n",
      " 8   TransactionAmount (INR)  1048567 non-null  float64\n",
      "dtypes: float64(2), int64(1), object(6)\n",
      "memory usage: 72.0+ MB\n"
     ]
    }
   ],
   "source": [
    "df.info()"
   ]
  },
  {
   "cell_type": "code",
   "execution_count": 63,
   "id": "1f3db429",
   "metadata": {
    "id": "1f3db429",
    "outputId": "00d6b8b6-347f-471e-b3b1-6f3986d1be7c"
   },
   "outputs": [
    {
     "data": {
      "text/plain": [
       "0"
      ]
     },
     "execution_count": 63,
     "metadata": {},
     "output_type": "execute_result"
    }
   ],
   "source": [
    "# Check Duplication\n",
    "df.duplicated().sum()"
   ]
  },
  {
   "cell_type": "code",
   "execution_count": 64,
   "id": "529e7abd",
   "metadata": {
    "id": "529e7abd"
   },
   "outputs": [],
   "source": [
    "# Drop usless Columns\n",
    "df.drop(['TransactionID' , 'CustLocation'] , axis = 1 , inplace = True )"
   ]
  },
  {
   "cell_type": "code",
   "execution_count": 65,
   "id": "1a3bdda2",
   "metadata": {},
   "outputs": [],
   "source": [
    "# Drop nan Values\n",
    "df.dropna(inplace=True,axis=0)"
   ]
  },
  {
   "cell_type": "markdown",
   "id": "87add647",
   "metadata": {
    "id": "87add647"
   },
   "source": [
    "## EDA and Cleaning"
   ]
  },
  {
   "cell_type": "code",
   "execution_count": 66,
   "id": "68c809a4",
   "metadata": {},
   "outputs": [],
   "source": [
    "# Being sure that all records begin by C\n",
    "filtered_df = df[~df['CustomerID'].str.startswith('C')]"
   ]
  },
  {
   "cell_type": "code",
   "execution_count": 67,
   "id": "84f9f986",
   "metadata": {},
   "outputs": [],
   "source": [
    "# Being sure that all records have same length\n",
    "filtered_df = df[df['CustomerID'].str.len() > 8]"
   ]
  },
  {
   "cell_type": "code",
   "execution_count": 68,
   "id": "202a94a8",
   "metadata": {},
   "outputs": [],
   "source": [
    "filtered_df = df[df['CustomerID'].str.len() < 8]"
   ]
  },
  {
   "cell_type": "code",
   "execution_count": 69,
   "id": "80f5e4fe",
   "metadata": {},
   "outputs": [],
   "source": [
    "# Removing \"C\" from the ID\n",
    "df['CustomerID'] = df['CustomerID'].str.replace('C', '')"
   ]
  },
  {
   "cell_type": "code",
   "execution_count": 37,
   "id": "20ba10b3",
   "metadata": {},
   "outputs": [],
   "source": [
    "# Convert the CustomerDOB column to datetime objects\n",
    "df['CustomerDOB'] = pd.to_datetime(df['CustomerDOB'])"
   ]
  },
  {
   "cell_type": "markdown",
   "id": "1c815531",
   "metadata": {},
   "source": [
    "## Feature Engineering"
   ]
  },
  {
   "cell_type": "code",
   "execution_count": 41,
   "id": "63eb7a03",
   "metadata": {},
   "outputs": [
    {
     "data": {
      "text/html": [
       "<div>\n",
       "<style scoped>\n",
       "    .dataframe tbody tr th:only-of-type {\n",
       "        vertical-align: middle;\n",
       "    }\n",
       "\n",
       "    .dataframe tbody tr th {\n",
       "        vertical-align: top;\n",
       "    }\n",
       "\n",
       "    .dataframe thead th {\n",
       "        text-align: right;\n",
       "    }\n",
       "</style>\n",
       "<table border=\"1\" class=\"dataframe\">\n",
       "  <thead>\n",
       "    <tr style=\"text-align: right;\">\n",
       "      <th></th>\n",
       "      <th>CustomerID</th>\n",
       "      <th>CustomerDOB</th>\n",
       "      <th>CustGender</th>\n",
       "      <th>CustAccountBalance</th>\n",
       "      <th>TransactionDate</th>\n",
       "      <th>TransactionTime</th>\n",
       "      <th>TransactionAmount (INR)</th>\n",
       "      <th>Age</th>\n",
       "    </tr>\n",
       "  </thead>\n",
       "  <tbody>\n",
       "    <tr>\n",
       "      <th>0</th>\n",
       "      <td>5841053</td>\n",
       "      <td>1994-10-01</td>\n",
       "      <td>F</td>\n",
       "      <td>17819.05</td>\n",
       "      <td>2/8/16</td>\n",
       "      <td>143207</td>\n",
       "      <td>25.0</td>\n",
       "      <td>27.0</td>\n",
       "    </tr>\n",
       "    <tr>\n",
       "      <th>1</th>\n",
       "      <td>2142763</td>\n",
       "      <td>2057-04-04</td>\n",
       "      <td>M</td>\n",
       "      <td>2270.69</td>\n",
       "      <td>2/8/16</td>\n",
       "      <td>141858</td>\n",
       "      <td>27999.0</td>\n",
       "      <td>-36.0</td>\n",
       "    </tr>\n",
       "    <tr>\n",
       "      <th>2</th>\n",
       "      <td>4417068</td>\n",
       "      <td>1996-11-26</td>\n",
       "      <td>F</td>\n",
       "      <td>17874.44</td>\n",
       "      <td>2/8/16</td>\n",
       "      <td>142712</td>\n",
       "      <td>459.0</td>\n",
       "      <td>25.0</td>\n",
       "    </tr>\n",
       "    <tr>\n",
       "      <th>3</th>\n",
       "      <td>5342380</td>\n",
       "      <td>1973-09-14</td>\n",
       "      <td>F</td>\n",
       "      <td>866503.21</td>\n",
       "      <td>2/8/16</td>\n",
       "      <td>142714</td>\n",
       "      <td>2060.0</td>\n",
       "      <td>48.0</td>\n",
       "    </tr>\n",
       "    <tr>\n",
       "      <th>4</th>\n",
       "      <td>9031234</td>\n",
       "      <td>1988-03-24</td>\n",
       "      <td>F</td>\n",
       "      <td>6714.43</td>\n",
       "      <td>2/8/16</td>\n",
       "      <td>181156</td>\n",
       "      <td>1762.5</td>\n",
       "      <td>33.0</td>\n",
       "    </tr>\n",
       "  </tbody>\n",
       "</table>\n",
       "</div>"
      ],
      "text/plain": [
       "  CustomerID CustomerDOB CustGender  CustAccountBalance TransactionDate  \\\n",
       "0    5841053  1994-10-01          F            17819.05          2/8/16   \n",
       "1    2142763  2057-04-04          M             2270.69          2/8/16   \n",
       "2    4417068  1996-11-26          F            17874.44          2/8/16   \n",
       "3    5342380  1973-09-14          F           866503.21          2/8/16   \n",
       "4    9031234  1988-03-24          F             6714.43          2/8/16   \n",
       "\n",
       "   TransactionTime  TransactionAmount (INR)   Age  \n",
       "0           143207                     25.0  27.0  \n",
       "1           141858                  27999.0 -36.0  \n",
       "2           142712                    459.0  25.0  \n",
       "3           142714                   2060.0  48.0  \n",
       "4           181156                   1762.5  33.0  "
      ]
     },
     "execution_count": 41,
     "metadata": {},
     "output_type": "execute_result"
    }
   ],
   "source": [
    "def Age(dob):\n",
    "    # Get the current year\n",
    "    current_year = date.today().year\n",
    "\n",
    "    # Calculate the age\n",
    "    age = current_year - dob.year - 2\n",
    "    return age\n",
    "\n",
    "\n",
    "df['Age'] = df['CustomerDOB'].apply(Age)\n",
    "df.head()"
   ]
  },
  {
   "cell_type": "markdown",
   "id": "cbb6f776",
   "metadata": {},
   "source": [
    "### Note :\n",
    "> There are many negative values in Age"
   ]
  },
  {
   "cell_type": "code",
   "execution_count": 43,
   "id": "a992fa73",
   "metadata": {},
   "outputs": [
    {
     "data": {
      "text/html": [
       "<div>\n",
       "<style scoped>\n",
       "    .dataframe tbody tr th:only-of-type {\n",
       "        vertical-align: middle;\n",
       "    }\n",
       "\n",
       "    .dataframe tbody tr th {\n",
       "        vertical-align: top;\n",
       "    }\n",
       "\n",
       "    .dataframe thead th {\n",
       "        text-align: right;\n",
       "    }\n",
       "</style>\n",
       "<table border=\"1\" class=\"dataframe\">\n",
       "  <thead>\n",
       "    <tr style=\"text-align: right;\">\n",
       "      <th></th>\n",
       "      <th>CustomerID</th>\n",
       "      <th>CustomerDOB</th>\n",
       "      <th>CustGender</th>\n",
       "      <th>CustAccountBalance</th>\n",
       "      <th>TransactionDate</th>\n",
       "      <th>TransactionTime</th>\n",
       "      <th>TransactionAmount (INR)</th>\n",
       "      <th>Age</th>\n",
       "    </tr>\n",
       "  </thead>\n",
       "  <tbody>\n",
       "    <tr>\n",
       "      <th>1</th>\n",
       "      <td>2142763</td>\n",
       "      <td>2057-04-04</td>\n",
       "      <td>M</td>\n",
       "      <td>2270.69</td>\n",
       "      <td>2/8/16</td>\n",
       "      <td>141858</td>\n",
       "      <td>27999.00</td>\n",
       "      <td>-36.0</td>\n",
       "    </tr>\n",
       "    <tr>\n",
       "      <th>5</th>\n",
       "      <td>1536588</td>\n",
       "      <td>2072-08-10</td>\n",
       "      <td>F</td>\n",
       "      <td>53609.20</td>\n",
       "      <td>2/8/16</td>\n",
       "      <td>173940</td>\n",
       "      <td>676.00</td>\n",
       "      <td>-51.0</td>\n",
       "    </tr>\n",
       "    <tr>\n",
       "      <th>15</th>\n",
       "      <td>8334633</td>\n",
       "      <td>2068-10-07</td>\n",
       "      <td>F</td>\n",
       "      <td>1283.12</td>\n",
       "      <td>1/8/16</td>\n",
       "      <td>125725</td>\n",
       "      <td>250.00</td>\n",
       "      <td>-47.0</td>\n",
       "    </tr>\n",
       "    <tr>\n",
       "      <th>30</th>\n",
       "      <td>7648712</td>\n",
       "      <td>2067-01-21</td>\n",
       "      <td>F</td>\n",
       "      <td>298461.05</td>\n",
       "      <td>3/8/16</td>\n",
       "      <td>160642</td>\n",
       "      <td>500.00</td>\n",
       "      <td>-46.0</td>\n",
       "    </tr>\n",
       "    <tr>\n",
       "      <th>51</th>\n",
       "      <td>6637047</td>\n",
       "      <td>2066-07-25</td>\n",
       "      <td>M</td>\n",
       "      <td>9956.49</td>\n",
       "      <td>5/8/16</td>\n",
       "      <td>133141</td>\n",
       "      <td>145.00</td>\n",
       "      <td>-45.0</td>\n",
       "    </tr>\n",
       "    <tr>\n",
       "      <th>...</th>\n",
       "      <td>...</td>\n",
       "      <td>...</td>\n",
       "      <td>...</td>\n",
       "      <td>...</td>\n",
       "      <td>...</td>\n",
       "      <td>...</td>\n",
       "      <td>...</td>\n",
       "      <td>...</td>\n",
       "    </tr>\n",
       "    <tr>\n",
       "      <th>1048506</th>\n",
       "      <td>3333984</td>\n",
       "      <td>2070-09-20</td>\n",
       "      <td>M</td>\n",
       "      <td>41.82</td>\n",
       "      <td>18/9/16</td>\n",
       "      <td>182310</td>\n",
       "      <td>878.18</td>\n",
       "      <td>-49.0</td>\n",
       "    </tr>\n",
       "    <tr>\n",
       "      <th>1048510</th>\n",
       "      <td>3429427</td>\n",
       "      <td>2048-07-15</td>\n",
       "      <td>M</td>\n",
       "      <td>416244.74</td>\n",
       "      <td>18/9/16</td>\n",
       "      <td>184959</td>\n",
       "      <td>1695.00</td>\n",
       "      <td>-27.0</td>\n",
       "    </tr>\n",
       "    <tr>\n",
       "      <th>1048536</th>\n",
       "      <td>2939947</td>\n",
       "      <td>2033-05-10</td>\n",
       "      <td>M</td>\n",
       "      <td>92173.35</td>\n",
       "      <td>18/9/16</td>\n",
       "      <td>184556</td>\n",
       "      <td>1319.04</td>\n",
       "      <td>-12.0</td>\n",
       "    </tr>\n",
       "    <tr>\n",
       "      <th>1048544</th>\n",
       "      <td>3712582</td>\n",
       "      <td>2071-05-10</td>\n",
       "      <td>M</td>\n",
       "      <td>25414.52</td>\n",
       "      <td>18/9/16</td>\n",
       "      <td>182015</td>\n",
       "      <td>400.00</td>\n",
       "      <td>-50.0</td>\n",
       "    </tr>\n",
       "    <tr>\n",
       "      <th>1048552</th>\n",
       "      <td>5091732</td>\n",
       "      <td>2071-08-21</td>\n",
       "      <td>F</td>\n",
       "      <td>235620.05</td>\n",
       "      <td>18/9/16</td>\n",
       "      <td>184234</td>\n",
       "      <td>1058.00</td>\n",
       "      <td>-50.0</td>\n",
       "    </tr>\n",
       "  </tbody>\n",
       "</table>\n",
       "<p>84284 rows × 8 columns</p>\n",
       "</div>"
      ],
      "text/plain": [
       "        CustomerID CustomerDOB CustGender  CustAccountBalance TransactionDate  \\\n",
       "1          2142763  2057-04-04          M             2270.69          2/8/16   \n",
       "5          1536588  2072-08-10          F            53609.20          2/8/16   \n",
       "15         8334633  2068-10-07          F             1283.12          1/8/16   \n",
       "30         7648712  2067-01-21          F           298461.05          3/8/16   \n",
       "51         6637047  2066-07-25          M             9956.49          5/8/16   \n",
       "...            ...         ...        ...                 ...             ...   \n",
       "1048506    3333984  2070-09-20          M               41.82         18/9/16   \n",
       "1048510    3429427  2048-07-15          M           416244.74         18/9/16   \n",
       "1048536    2939947  2033-05-10          M            92173.35         18/9/16   \n",
       "1048544    3712582  2071-05-10          M            25414.52         18/9/16   \n",
       "1048552    5091732  2071-08-21          F           235620.05         18/9/16   \n",
       "\n",
       "         TransactionTime  TransactionAmount (INR)   Age  \n",
       "1                 141858                 27999.00 -36.0  \n",
       "5                 173940                   676.00 -51.0  \n",
       "15                125725                   250.00 -47.0  \n",
       "30                160642                   500.00 -46.0  \n",
       "51                133141                   145.00 -45.0  \n",
       "...                  ...                      ...   ...  \n",
       "1048506           182310                   878.18 -49.0  \n",
       "1048510           184959                  1695.00 -27.0  \n",
       "1048536           184556                  1319.04 -12.0  \n",
       "1048544           182015                   400.00 -50.0  \n",
       "1048552           184234                  1058.00 -50.0  \n",
       "\n",
       "[84284 rows x 8 columns]"
      ]
     },
     "execution_count": 43,
     "metadata": {},
     "output_type": "execute_result"
    }
   ],
   "source": [
    "# Check how many records have this problem\n",
    "df[df['Age']<0]"
   ]
  },
  {
   "cell_type": "code",
   "execution_count": 72,
   "id": "68ebd0f8",
   "metadata": {},
   "outputs": [],
   "source": [
    "# Getting the year of customer's date of birth\n",
    "df['dob'] = df['CustomerDOB'].apply(lambda x: '19'+ x.split('/')[2])"
   ]
  },
  {
   "cell_type": "code",
   "execution_count": 73,
   "id": "8ac3e452",
   "metadata": {},
   "outputs": [
    {
     "data": {
      "text/html": [
       "<div>\n",
       "<style scoped>\n",
       "    .dataframe tbody tr th:only-of-type {\n",
       "        vertical-align: middle;\n",
       "    }\n",
       "\n",
       "    .dataframe tbody tr th {\n",
       "        vertical-align: top;\n",
       "    }\n",
       "\n",
       "    .dataframe thead th {\n",
       "        text-align: right;\n",
       "    }\n",
       "</style>\n",
       "<table border=\"1\" class=\"dataframe\">\n",
       "  <thead>\n",
       "    <tr style=\"text-align: right;\">\n",
       "      <th></th>\n",
       "      <th>CustomerID</th>\n",
       "      <th>CustomerDOB</th>\n",
       "      <th>CustGender</th>\n",
       "      <th>CustAccountBalance</th>\n",
       "      <th>TransactionDate</th>\n",
       "      <th>TransactionTime</th>\n",
       "      <th>TransactionAmount (INR)</th>\n",
       "      <th>dob</th>\n",
       "    </tr>\n",
       "  </thead>\n",
       "  <tbody>\n",
       "    <tr>\n",
       "      <th>0</th>\n",
       "      <td>5841053</td>\n",
       "      <td>10/1/94</td>\n",
       "      <td>F</td>\n",
       "      <td>17819.05</td>\n",
       "      <td>2/8/16</td>\n",
       "      <td>143207</td>\n",
       "      <td>25.0</td>\n",
       "      <td>1994</td>\n",
       "    </tr>\n",
       "    <tr>\n",
       "      <th>1</th>\n",
       "      <td>2142763</td>\n",
       "      <td>4/4/57</td>\n",
       "      <td>M</td>\n",
       "      <td>2270.69</td>\n",
       "      <td>2/8/16</td>\n",
       "      <td>141858</td>\n",
       "      <td>27999.0</td>\n",
       "      <td>1957</td>\n",
       "    </tr>\n",
       "    <tr>\n",
       "      <th>2</th>\n",
       "      <td>4417068</td>\n",
       "      <td>26/11/96</td>\n",
       "      <td>F</td>\n",
       "      <td>17874.44</td>\n",
       "      <td>2/8/16</td>\n",
       "      <td>142712</td>\n",
       "      <td>459.0</td>\n",
       "      <td>1996</td>\n",
       "    </tr>\n",
       "    <tr>\n",
       "      <th>3</th>\n",
       "      <td>5342380</td>\n",
       "      <td>14/9/73</td>\n",
       "      <td>F</td>\n",
       "      <td>866503.21</td>\n",
       "      <td>2/8/16</td>\n",
       "      <td>142714</td>\n",
       "      <td>2060.0</td>\n",
       "      <td>1973</td>\n",
       "    </tr>\n",
       "    <tr>\n",
       "      <th>4</th>\n",
       "      <td>9031234</td>\n",
       "      <td>24/3/88</td>\n",
       "      <td>F</td>\n",
       "      <td>6714.43</td>\n",
       "      <td>2/8/16</td>\n",
       "      <td>181156</td>\n",
       "      <td>1762.5</td>\n",
       "      <td>1988</td>\n",
       "    </tr>\n",
       "    <tr>\n",
       "      <th>...</th>\n",
       "      <td>...</td>\n",
       "      <td>...</td>\n",
       "      <td>...</td>\n",
       "      <td>...</td>\n",
       "      <td>...</td>\n",
       "      <td>...</td>\n",
       "      <td>...</td>\n",
       "      <td>...</td>\n",
       "    </tr>\n",
       "    <tr>\n",
       "      <th>1048562</th>\n",
       "      <td>8020229</td>\n",
       "      <td>8/4/90</td>\n",
       "      <td>M</td>\n",
       "      <td>7635.19</td>\n",
       "      <td>18/9/16</td>\n",
       "      <td>184824</td>\n",
       "      <td>799.0</td>\n",
       "      <td>1990</td>\n",
       "    </tr>\n",
       "    <tr>\n",
       "      <th>1048563</th>\n",
       "      <td>6459278</td>\n",
       "      <td>20/2/92</td>\n",
       "      <td>M</td>\n",
       "      <td>27311.42</td>\n",
       "      <td>18/9/16</td>\n",
       "      <td>183734</td>\n",
       "      <td>460.0</td>\n",
       "      <td>1992</td>\n",
       "    </tr>\n",
       "    <tr>\n",
       "      <th>1048564</th>\n",
       "      <td>6412354</td>\n",
       "      <td>18/5/89</td>\n",
       "      <td>M</td>\n",
       "      <td>221757.06</td>\n",
       "      <td>18/9/16</td>\n",
       "      <td>183313</td>\n",
       "      <td>770.0</td>\n",
       "      <td>1989</td>\n",
       "    </tr>\n",
       "    <tr>\n",
       "      <th>1048565</th>\n",
       "      <td>6420483</td>\n",
       "      <td>30/8/78</td>\n",
       "      <td>M</td>\n",
       "      <td>10117.87</td>\n",
       "      <td>18/9/16</td>\n",
       "      <td>184706</td>\n",
       "      <td>1000.0</td>\n",
       "      <td>1978</td>\n",
       "    </tr>\n",
       "    <tr>\n",
       "      <th>1048566</th>\n",
       "      <td>8337524</td>\n",
       "      <td>5/3/84</td>\n",
       "      <td>M</td>\n",
       "      <td>75734.42</td>\n",
       "      <td>18/9/16</td>\n",
       "      <td>181222</td>\n",
       "      <td>1166.0</td>\n",
       "      <td>1984</td>\n",
       "    </tr>\n",
       "  </tbody>\n",
       "</table>\n",
       "<p>1041765 rows × 8 columns</p>\n",
       "</div>"
      ],
      "text/plain": [
       "        CustomerID CustomerDOB CustGender  CustAccountBalance TransactionDate  \\\n",
       "0          5841053     10/1/94          F            17819.05          2/8/16   \n",
       "1          2142763      4/4/57          M             2270.69          2/8/16   \n",
       "2          4417068    26/11/96          F            17874.44          2/8/16   \n",
       "3          5342380     14/9/73          F           866503.21          2/8/16   \n",
       "4          9031234     24/3/88          F             6714.43          2/8/16   \n",
       "...            ...         ...        ...                 ...             ...   \n",
       "1048562    8020229      8/4/90          M             7635.19         18/9/16   \n",
       "1048563    6459278     20/2/92          M            27311.42         18/9/16   \n",
       "1048564    6412354     18/5/89          M           221757.06         18/9/16   \n",
       "1048565    6420483     30/8/78          M            10117.87         18/9/16   \n",
       "1048566    8337524      5/3/84          M            75734.42         18/9/16   \n",
       "\n",
       "         TransactionTime  TransactionAmount (INR)   dob  \n",
       "0                 143207                     25.0  1994  \n",
       "1                 141858                  27999.0  1957  \n",
       "2                 142712                    459.0  1996  \n",
       "3                 142714                   2060.0  1973  \n",
       "4                 181156                   1762.5  1988  \n",
       "...                  ...                      ...   ...  \n",
       "1048562           184824                    799.0  1990  \n",
       "1048563           183734                    460.0  1992  \n",
       "1048564           183313                    770.0  1989  \n",
       "1048565           184706                   1000.0  1978  \n",
       "1048566           181222                   1166.0  1984  \n",
       "\n",
       "[1041765 rows x 8 columns]"
      ]
     },
     "execution_count": 73,
     "metadata": {},
     "output_type": "execute_result"
    }
   ],
   "source": [
    "df"
   ]
  },
  {
   "cell_type": "code",
   "execution_count": 76,
   "id": "84b86a95",
   "metadata": {},
   "outputs": [
    {
     "data": {
      "text/html": [
       "<div>\n",
       "<style scoped>\n",
       "    .dataframe tbody tr th:only-of-type {\n",
       "        vertical-align: middle;\n",
       "    }\n",
       "\n",
       "    .dataframe tbody tr th {\n",
       "        vertical-align: top;\n",
       "    }\n",
       "\n",
       "    .dataframe thead th {\n",
       "        text-align: right;\n",
       "    }\n",
       "</style>\n",
       "<table border=\"1\" class=\"dataframe\">\n",
       "  <thead>\n",
       "    <tr style=\"text-align: right;\">\n",
       "      <th></th>\n",
       "      <th>CustomerID</th>\n",
       "      <th>CustomerDOB</th>\n",
       "      <th>CustGender</th>\n",
       "      <th>CustAccountBalance</th>\n",
       "      <th>TransactionDate</th>\n",
       "      <th>TransactionTime</th>\n",
       "      <th>TransactionAmount (INR)</th>\n",
       "      <th>dob</th>\n",
       "      <th>Age</th>\n",
       "    </tr>\n",
       "  </thead>\n",
       "  <tbody>\n",
       "    <tr>\n",
       "      <th>0</th>\n",
       "      <td>5841053</td>\n",
       "      <td>10/1/94</td>\n",
       "      <td>F</td>\n",
       "      <td>17819.05</td>\n",
       "      <td>2/8/16</td>\n",
       "      <td>143207</td>\n",
       "      <td>25.0</td>\n",
       "      <td>1994</td>\n",
       "      <td>27</td>\n",
       "    </tr>\n",
       "    <tr>\n",
       "      <th>1</th>\n",
       "      <td>2142763</td>\n",
       "      <td>4/4/57</td>\n",
       "      <td>M</td>\n",
       "      <td>2270.69</td>\n",
       "      <td>2/8/16</td>\n",
       "      <td>141858</td>\n",
       "      <td>27999.0</td>\n",
       "      <td>1957</td>\n",
       "      <td>64</td>\n",
       "    </tr>\n",
       "    <tr>\n",
       "      <th>2</th>\n",
       "      <td>4417068</td>\n",
       "      <td>26/11/96</td>\n",
       "      <td>F</td>\n",
       "      <td>17874.44</td>\n",
       "      <td>2/8/16</td>\n",
       "      <td>142712</td>\n",
       "      <td>459.0</td>\n",
       "      <td>1996</td>\n",
       "      <td>25</td>\n",
       "    </tr>\n",
       "    <tr>\n",
       "      <th>3</th>\n",
       "      <td>5342380</td>\n",
       "      <td>14/9/73</td>\n",
       "      <td>F</td>\n",
       "      <td>866503.21</td>\n",
       "      <td>2/8/16</td>\n",
       "      <td>142714</td>\n",
       "      <td>2060.0</td>\n",
       "      <td>1973</td>\n",
       "      <td>48</td>\n",
       "    </tr>\n",
       "    <tr>\n",
       "      <th>4</th>\n",
       "      <td>9031234</td>\n",
       "      <td>24/3/88</td>\n",
       "      <td>F</td>\n",
       "      <td>6714.43</td>\n",
       "      <td>2/8/16</td>\n",
       "      <td>181156</td>\n",
       "      <td>1762.5</td>\n",
       "      <td>1988</td>\n",
       "      <td>33</td>\n",
       "    </tr>\n",
       "  </tbody>\n",
       "</table>\n",
       "</div>"
      ],
      "text/plain": [
       "  CustomerID CustomerDOB CustGender  CustAccountBalance TransactionDate  \\\n",
       "0    5841053     10/1/94          F            17819.05          2/8/16   \n",
       "1    2142763      4/4/57          M             2270.69          2/8/16   \n",
       "2    4417068    26/11/96          F            17874.44          2/8/16   \n",
       "3    5342380     14/9/73          F           866503.21          2/8/16   \n",
       "4    9031234     24/3/88          F             6714.43          2/8/16   \n",
       "\n",
       "   TransactionTime  TransactionAmount (INR)   dob  Age  \n",
       "0           143207                     25.0  1994   27  \n",
       "1           141858                  27999.0  1957   64  \n",
       "2           142712                    459.0  1996   25  \n",
       "3           142714                   2060.0  1973   48  \n",
       "4           181156                   1762.5  1988   33  "
      ]
     },
     "execution_count": 76,
     "metadata": {},
     "output_type": "execute_result"
    }
   ],
   "source": [
    "# Calculating Age of customer\n",
    "def Age(dob):\n",
    "    # Get the current year\n",
    "    current_year = date.today().year\n",
    "\n",
    "    # Calculate the age\n",
    "    age = current_year - int(dob) - 2\n",
    "    return age\n",
    "\n",
    "\n",
    "df['Age'] = df['dob'].apply(Age)\n",
    "df.head()"
   ]
  },
  {
   "cell_type": "code",
   "execution_count": 95,
   "id": "51f546c9",
   "metadata": {},
   "outputs": [],
   "source": [
    "# Extract Day , Month , Year from TransactionDate\n",
    "df['TransactionDate']=pd.to_datetime(df['TransactionDate'])\n",
    "df['Transaction_Day'] = df['TransactionDate'].dt.day\n",
    "df['Transaction_Month'] = df['TransactionDate'].dt.month\n",
    "df['Transaction_Year'] = df['TransactionDate'].dt.year"
   ]
  },
  {
   "cell_type": "code",
   "execution_count": 97,
   "id": "9daaba23",
   "metadata": {},
   "outputs": [],
   "source": [
    "# create dummy variables for the 'gender' column\n",
    "df = pd.get_dummies(df, columns=['CustGender'],drop_first=True)"
   ]
  },
  {
   "cell_type": "code",
   "execution_count": 99,
   "id": "b33f4ee0",
   "metadata": {},
   "outputs": [],
   "source": [
    "# Change Type of Customer ID to numerical\n",
    "df['CustomerID']=df['CustomerID'].astype('int')"
   ]
  },
  {
   "cell_type": "code",
   "execution_count": 112,
   "id": "6d55f723",
   "metadata": {},
   "outputs": [
    {
     "data": {
      "text/plain": [
       "2016    1041765\n",
       "Name: Transaction_Year, dtype: int64"
      ]
     },
     "execution_count": 112,
     "metadata": {},
     "output_type": "execute_result"
    }
   ],
   "source": [
    "# Check the unique \n",
    "df['Transaction_Year'].value_counts()"
   ]
  },
  {
   "cell_type": "code",
   "execution_count": 142,
   "id": "b17ff94c",
   "metadata": {},
   "outputs": [
    {
     "ename": "KeyError",
     "evalue": "\"['CustomerDOB', 'dob'] not found in axis\"",
     "output_type": "error",
     "traceback": [
      "\u001b[1;31m---------------------------------------------------------------------------\u001b[0m",
      "\u001b[1;31mKeyError\u001b[0m                                  Traceback (most recent call last)",
      "\u001b[1;32m~\\AppData\\Local\\Temp\\ipykernel_17168\\496409961.py\u001b[0m in \u001b[0;36m<module>\u001b[1;34m\u001b[0m\n\u001b[0;32m      1\u001b[0m \u001b[1;31m# Remove unneeded Columns\u001b[0m\u001b[1;33m\u001b[0m\u001b[1;33m\u001b[0m\u001b[0m\n\u001b[1;32m----> 2\u001b[1;33m \u001b[0mdf\u001b[0m\u001b[1;33m.\u001b[0m\u001b[0mdrop\u001b[0m\u001b[1;33m(\u001b[0m\u001b[1;33m[\u001b[0m\u001b[1;34m'CustomerDOB'\u001b[0m\u001b[1;33m,\u001b[0m\u001b[1;34m'dob'\u001b[0m\u001b[1;33m,\u001b[0m\u001b[1;34m'TransactionDate'\u001b[0m\u001b[1;33m,\u001b[0m\u001b[1;34m'TransactionTime'\u001b[0m\u001b[1;33m,\u001b[0m\u001b[1;34m'Transaction_Year'\u001b[0m\u001b[1;33m]\u001b[0m\u001b[1;33m,\u001b[0m\u001b[0maxis\u001b[0m\u001b[1;33m=\u001b[0m\u001b[1;36m1\u001b[0m\u001b[1;33m,\u001b[0m\u001b[0minplace\u001b[0m\u001b[1;33m=\u001b[0m\u001b[1;32mTrue\u001b[0m\u001b[1;33m)\u001b[0m\u001b[1;33m\u001b[0m\u001b[1;33m\u001b[0m\u001b[0m\n\u001b[0m",
      "\u001b[1;32m~\\anaconda3\\lib\\site-packages\\pandas\\util\\_decorators.py\u001b[0m in \u001b[0;36mwrapper\u001b[1;34m(*args, **kwargs)\u001b[0m\n\u001b[0;32m    309\u001b[0m                     \u001b[0mstacklevel\u001b[0m\u001b[1;33m=\u001b[0m\u001b[0mstacklevel\u001b[0m\u001b[1;33m,\u001b[0m\u001b[1;33m\u001b[0m\u001b[1;33m\u001b[0m\u001b[0m\n\u001b[0;32m    310\u001b[0m                 )\n\u001b[1;32m--> 311\u001b[1;33m             \u001b[1;32mreturn\u001b[0m \u001b[0mfunc\u001b[0m\u001b[1;33m(\u001b[0m\u001b[1;33m*\u001b[0m\u001b[0margs\u001b[0m\u001b[1;33m,\u001b[0m \u001b[1;33m**\u001b[0m\u001b[0mkwargs\u001b[0m\u001b[1;33m)\u001b[0m\u001b[1;33m\u001b[0m\u001b[1;33m\u001b[0m\u001b[0m\n\u001b[0m\u001b[0;32m    312\u001b[0m \u001b[1;33m\u001b[0m\u001b[0m\n\u001b[0;32m    313\u001b[0m         \u001b[1;32mreturn\u001b[0m \u001b[0mwrapper\u001b[0m\u001b[1;33m\u001b[0m\u001b[1;33m\u001b[0m\u001b[0m\n",
      "\u001b[1;32m~\\anaconda3\\lib\\site-packages\\pandas\\core\\frame.py\u001b[0m in \u001b[0;36mdrop\u001b[1;34m(self, labels, axis, index, columns, level, inplace, errors)\u001b[0m\n\u001b[0;32m   4955\u001b[0m                 \u001b[0mweight\u001b[0m  \u001b[1;36m1.0\u001b[0m     \u001b[1;36m0.8\u001b[0m\u001b[1;33m\u001b[0m\u001b[1;33m\u001b[0m\u001b[0m\n\u001b[0;32m   4956\u001b[0m         \"\"\"\n\u001b[1;32m-> 4957\u001b[1;33m         return super().drop(\n\u001b[0m\u001b[0;32m   4958\u001b[0m             \u001b[0mlabels\u001b[0m\u001b[1;33m=\u001b[0m\u001b[0mlabels\u001b[0m\u001b[1;33m,\u001b[0m\u001b[1;33m\u001b[0m\u001b[1;33m\u001b[0m\u001b[0m\n\u001b[0;32m   4959\u001b[0m             \u001b[0maxis\u001b[0m\u001b[1;33m=\u001b[0m\u001b[0maxis\u001b[0m\u001b[1;33m,\u001b[0m\u001b[1;33m\u001b[0m\u001b[1;33m\u001b[0m\u001b[0m\n",
      "\u001b[1;32m~\\anaconda3\\lib\\site-packages\\pandas\\core\\generic.py\u001b[0m in \u001b[0;36mdrop\u001b[1;34m(self, labels, axis, index, columns, level, inplace, errors)\u001b[0m\n\u001b[0;32m   4265\u001b[0m         \u001b[1;32mfor\u001b[0m \u001b[0maxis\u001b[0m\u001b[1;33m,\u001b[0m \u001b[0mlabels\u001b[0m \u001b[1;32min\u001b[0m \u001b[0maxes\u001b[0m\u001b[1;33m.\u001b[0m\u001b[0mitems\u001b[0m\u001b[1;33m(\u001b[0m\u001b[1;33m)\u001b[0m\u001b[1;33m:\u001b[0m\u001b[1;33m\u001b[0m\u001b[1;33m\u001b[0m\u001b[0m\n\u001b[0;32m   4266\u001b[0m             \u001b[1;32mif\u001b[0m \u001b[0mlabels\u001b[0m \u001b[1;32mis\u001b[0m \u001b[1;32mnot\u001b[0m \u001b[1;32mNone\u001b[0m\u001b[1;33m:\u001b[0m\u001b[1;33m\u001b[0m\u001b[1;33m\u001b[0m\u001b[0m\n\u001b[1;32m-> 4267\u001b[1;33m                 \u001b[0mobj\u001b[0m \u001b[1;33m=\u001b[0m \u001b[0mobj\u001b[0m\u001b[1;33m.\u001b[0m\u001b[0m_drop_axis\u001b[0m\u001b[1;33m(\u001b[0m\u001b[0mlabels\u001b[0m\u001b[1;33m,\u001b[0m \u001b[0maxis\u001b[0m\u001b[1;33m,\u001b[0m \u001b[0mlevel\u001b[0m\u001b[1;33m=\u001b[0m\u001b[0mlevel\u001b[0m\u001b[1;33m,\u001b[0m \u001b[0merrors\u001b[0m\u001b[1;33m=\u001b[0m\u001b[0merrors\u001b[0m\u001b[1;33m)\u001b[0m\u001b[1;33m\u001b[0m\u001b[1;33m\u001b[0m\u001b[0m\n\u001b[0m\u001b[0;32m   4268\u001b[0m \u001b[1;33m\u001b[0m\u001b[0m\n\u001b[0;32m   4269\u001b[0m         \u001b[1;32mif\u001b[0m \u001b[0minplace\u001b[0m\u001b[1;33m:\u001b[0m\u001b[1;33m\u001b[0m\u001b[1;33m\u001b[0m\u001b[0m\n",
      "\u001b[1;32m~\\anaconda3\\lib\\site-packages\\pandas\\core\\generic.py\u001b[0m in \u001b[0;36m_drop_axis\u001b[1;34m(self, labels, axis, level, errors, consolidate, only_slice)\u001b[0m\n\u001b[0;32m   4309\u001b[0m                 \u001b[0mnew_axis\u001b[0m \u001b[1;33m=\u001b[0m \u001b[0maxis\u001b[0m\u001b[1;33m.\u001b[0m\u001b[0mdrop\u001b[0m\u001b[1;33m(\u001b[0m\u001b[0mlabels\u001b[0m\u001b[1;33m,\u001b[0m \u001b[0mlevel\u001b[0m\u001b[1;33m=\u001b[0m\u001b[0mlevel\u001b[0m\u001b[1;33m,\u001b[0m \u001b[0merrors\u001b[0m\u001b[1;33m=\u001b[0m\u001b[0merrors\u001b[0m\u001b[1;33m)\u001b[0m\u001b[1;33m\u001b[0m\u001b[1;33m\u001b[0m\u001b[0m\n\u001b[0;32m   4310\u001b[0m             \u001b[1;32melse\u001b[0m\u001b[1;33m:\u001b[0m\u001b[1;33m\u001b[0m\u001b[1;33m\u001b[0m\u001b[0m\n\u001b[1;32m-> 4311\u001b[1;33m                 \u001b[0mnew_axis\u001b[0m \u001b[1;33m=\u001b[0m \u001b[0maxis\u001b[0m\u001b[1;33m.\u001b[0m\u001b[0mdrop\u001b[0m\u001b[1;33m(\u001b[0m\u001b[0mlabels\u001b[0m\u001b[1;33m,\u001b[0m \u001b[0merrors\u001b[0m\u001b[1;33m=\u001b[0m\u001b[0merrors\u001b[0m\u001b[1;33m)\u001b[0m\u001b[1;33m\u001b[0m\u001b[1;33m\u001b[0m\u001b[0m\n\u001b[0m\u001b[0;32m   4312\u001b[0m             \u001b[0mindexer\u001b[0m \u001b[1;33m=\u001b[0m \u001b[0maxis\u001b[0m\u001b[1;33m.\u001b[0m\u001b[0mget_indexer\u001b[0m\u001b[1;33m(\u001b[0m\u001b[0mnew_axis\u001b[0m\u001b[1;33m)\u001b[0m\u001b[1;33m\u001b[0m\u001b[1;33m\u001b[0m\u001b[0m\n\u001b[0;32m   4313\u001b[0m \u001b[1;33m\u001b[0m\u001b[0m\n",
      "\u001b[1;32m~\\anaconda3\\lib\\site-packages\\pandas\\core\\indexes\\base.py\u001b[0m in \u001b[0;36mdrop\u001b[1;34m(self, labels, errors)\u001b[0m\n\u001b[0;32m   6659\u001b[0m         \u001b[1;32mif\u001b[0m \u001b[0mmask\u001b[0m\u001b[1;33m.\u001b[0m\u001b[0many\u001b[0m\u001b[1;33m(\u001b[0m\u001b[1;33m)\u001b[0m\u001b[1;33m:\u001b[0m\u001b[1;33m\u001b[0m\u001b[1;33m\u001b[0m\u001b[0m\n\u001b[0;32m   6660\u001b[0m             \u001b[1;32mif\u001b[0m \u001b[0merrors\u001b[0m \u001b[1;33m!=\u001b[0m \u001b[1;34m\"ignore\"\u001b[0m\u001b[1;33m:\u001b[0m\u001b[1;33m\u001b[0m\u001b[1;33m\u001b[0m\u001b[0m\n\u001b[1;32m-> 6661\u001b[1;33m                 \u001b[1;32mraise\u001b[0m \u001b[0mKeyError\u001b[0m\u001b[1;33m(\u001b[0m\u001b[1;34mf\"{list(labels[mask])} not found in axis\"\u001b[0m\u001b[1;33m)\u001b[0m\u001b[1;33m\u001b[0m\u001b[1;33m\u001b[0m\u001b[0m\n\u001b[0m\u001b[0;32m   6662\u001b[0m             \u001b[0mindexer\u001b[0m \u001b[1;33m=\u001b[0m \u001b[0mindexer\u001b[0m\u001b[1;33m[\u001b[0m\u001b[1;33m~\u001b[0m\u001b[0mmask\u001b[0m\u001b[1;33m]\u001b[0m\u001b[1;33m\u001b[0m\u001b[1;33m\u001b[0m\u001b[0m\n\u001b[0;32m   6663\u001b[0m         \u001b[1;32mreturn\u001b[0m \u001b[0mself\u001b[0m\u001b[1;33m.\u001b[0m\u001b[0mdelete\u001b[0m\u001b[1;33m(\u001b[0m\u001b[0mindexer\u001b[0m\u001b[1;33m)\u001b[0m\u001b[1;33m\u001b[0m\u001b[1;33m\u001b[0m\u001b[0m\n",
      "\u001b[1;31mKeyError\u001b[0m: \"['CustomerDOB', 'dob'] not found in axis\""
     ]
    }
   ],
   "source": [
    "# Remove unneeded Columns\n",
    "df.drop(['CustomerDOB','dob','TransactionDate','TransactionTime','Transaction_Year'],axis=1,inplace=True)"
   ]
  },
  {
   "cell_type": "code",
   "execution_count": 144,
   "id": "d9483156",
   "metadata": {},
   "outputs": [],
   "source": [
    "# Remove unneeded Columns\n",
    "df.drop(['TransactionDate','TransactionTime','Transaction_Year'],axis=1,inplace=True)"
   ]
  },
  {
   "cell_type": "code",
   "execution_count": 145,
   "id": "2f7f0373",
   "metadata": {},
   "outputs": [
    {
     "name": "stdout",
     "output_type": "stream",
     "text": [
      "<class 'pandas.core.frame.DataFrame'>\n",
      "Int64Index: 1041765 entries, 0 to 1048566\n",
      "Data columns (total 8 columns):\n",
      " #   Column                   Non-Null Count    Dtype  \n",
      "---  ------                   --------------    -----  \n",
      " 0   CustomerID               1041765 non-null  int32  \n",
      " 1   CustAccountBalance       1041765 non-null  float64\n",
      " 2   TransactionAmount (INR)  1041765 non-null  float64\n",
      " 3   Age                      1041765 non-null  int64  \n",
      " 4   Transaction_Day          1041765 non-null  int64  \n",
      " 5   Transaction_Month        1041765 non-null  int64  \n",
      " 6   CustGender_M             1041765 non-null  uint8  \n",
      " 7   CustGender_T             1041765 non-null  uint8  \n",
      "dtypes: float64(2), int32(1), int64(3), uint8(2)\n",
      "memory usage: 53.6 MB\n"
     ]
    }
   ],
   "source": [
    "df.info()"
   ]
  },
  {
   "cell_type": "code",
   "execution_count": 146,
   "id": "8d8ad86e",
   "metadata": {
    "id": "8d8ad86e",
    "outputId": "dd16aaf7-567b-42e0-dd27-b44eba011b6f"
   },
   "outputs": [
    {
     "data": {
      "text/plain": [
       "<AxesSubplot:>"
      ]
     },
     "execution_count": 146,
     "metadata": {},
     "output_type": "execute_result"
    },
    {
     "data": {
      "image/png": "[encoded data removed]",
      "text/plain": [
       "<Figure size 640x480 with 2 Axes>"
      ]
     },
     "metadata": {},
     "output_type": "display_data"
    }
   ],
   "source": [
    "sns.heatmap(df.corr(), annot=True, fmt='.2f')"
   ]
  },
  {
   "cell_type": "markdown",
   "id": "2800b47a",
   "metadata": {
    "id": "2800b47a"
   },
   "source": [
    "## Modeling with KMeans"
   ]
  },
  {
   "cell_type": "code",
   "execution_count": 79,
   "id": "a594a077",
   "metadata": {
    "id": "a594a077"
   },
   "outputs": [],
   "source": [
    "from sklearn.preprocessing import StandardScaler , MinMaxScaler, RobustScaler\n",
    "from sklearn.cluster import KMeans\n",
    "from sklearn.metrics import silhouette_score\n",
    "#from kneed import KneeLocator"
   ]
  },
  {
   "cell_type": "markdown",
   "id": "023f01ea",
   "metadata": {
    "id": "023f01ea"
   },
   "source": [
    "###### try with 2 combinations  of features"
   ]
  },
  {
   "cell_type": "code",
   "execution_count": 80,
   "id": "c2f614d5",
   "metadata": {
    "id": "c2f614d5"
   },
   "outputs": [],
   "source": [
    "df1 = df[['Age' , 'CustAccountBalance']]"
   ]
  },
  {
   "cell_type": "code",
   "execution_count": 81,
   "id": "74833d47",
   "metadata": {
    "id": "74833d47",
    "outputId": "2330ab97-22aa-4e5d-ed0b-4a8b3a441cc0"
   },
   "outputs": [
    {
     "data": {
      "text/html": [
       "<div>\n",
       "<style scoped>\n",
       "    .dataframe tbody tr th:only-of-type {\n",
       "        vertical-align: middle;\n",
       "    }\n",
       "\n",
       "    .dataframe tbody tr th {\n",
       "        vertical-align: top;\n",
       "    }\n",
       "\n",
       "    .dataframe thead th {\n",
       "        text-align: right;\n",
       "    }\n",
       "</style>\n",
       "<table border=\"1\" class=\"dataframe\">\n",
       "  <thead>\n",
       "    <tr style=\"text-align: right;\">\n",
       "      <th></th>\n",
       "      <th>Age</th>\n",
       "      <th>CustAccountBalance</th>\n",
       "    </tr>\n",
       "  </thead>\n",
       "  <tbody>\n",
       "    <tr>\n",
       "      <th>0</th>\n",
       "      <td>0.238789</td>\n",
       "      <td>-0.114770</td>\n",
       "    </tr>\n",
       "    <tr>\n",
       "      <th>1</th>\n",
       "      <td>0.239651</td>\n",
       "      <td>-0.133134</td>\n",
       "    </tr>\n",
       "    <tr>\n",
       "      <th>2</th>\n",
       "      <td>0.238743</td>\n",
       "      <td>-0.114705</td>\n",
       "    </tr>\n",
       "    <tr>\n",
       "      <th>3</th>\n",
       "      <td>0.239278</td>\n",
       "      <td>0.887572</td>\n",
       "    </tr>\n",
       "    <tr>\n",
       "      <th>4</th>\n",
       "      <td>0.238929</td>\n",
       "      <td>-0.127886</td>\n",
       "    </tr>\n",
       "  </tbody>\n",
       "</table>\n",
       "</div>"
      ],
      "text/plain": [
       "        Age  CustAccountBalance\n",
       "0  0.238789           -0.114770\n",
       "1  0.239651           -0.133134\n",
       "2  0.238743           -0.114705\n",
       "3  0.239278            0.887572\n",
       "4  0.238929           -0.127886"
      ]
     },
     "execution_count": 81,
     "metadata": {},
     "output_type": "execute_result"
    }
   ],
   "source": [
    "sclr = StandardScaler()\n",
    "df1[df1.columns] = sclr.fit_transform(df1[df1.columns])\n",
    "df1.head()"
   ]
  },
  {
   "cell_type": "code",
   "execution_count": 82,
   "id": "06d747d5",
   "metadata": {
    "id": "06d747d5"
   },
   "outputs": [
    {
     "data": {
      "image/png": "[encoded data removed]",
      "text/plain": [
       "<Figure size 640x480 with 1 Axes>"
      ]
     },
     "metadata": {},
     "output_type": "display_data"
    }
   ],
   "source": [
    "# Elbow method\n",
    "wcss = []\n",
    "for k in range(1 , 11):\n",
    "    Model = KMeans(n_clusters = k, random_state=42)\n",
    "    Model.fit(df1)\n",
    "    wcss.append(Model.inertia_)\n",
    "plt.plot(range(1,11),wcss)\n",
    "plt.title('The Elbow Method')\n",
    "plt.xlabel('Number of clusters')\n",
    "plt.ylabel('Wcss')\n",
    "plt.show()"
   ]
  },
  {
   "cell_type": "code",
   "execution_count": 83,
   "id": "f94ef97b",
   "metadata": {
    "id": "f94ef97b",
    "outputId": "0550f816-21f7-4c5b-a21e-fdc657889e85"
   },
   "outputs": [
    {
     "data": {
      "text/html": [
       "<div>\n",
       "<style scoped>\n",
       "    .dataframe tbody tr th:only-of-type {\n",
       "        vertical-align: middle;\n",
       "    }\n",
       "\n",
       "    .dataframe tbody tr th {\n",
       "        vertical-align: top;\n",
       "    }\n",
       "\n",
       "    .dataframe thead th {\n",
       "        text-align: right;\n",
       "    }\n",
       "</style>\n",
       "<table border=\"1\" class=\"dataframe\">\n",
       "  <thead>\n",
       "    <tr style=\"text-align: right;\">\n",
       "      <th></th>\n",
       "      <th>Age</th>\n",
       "      <th>CustAccountBalance</th>\n",
       "      <th>Cluster</th>\n",
       "    </tr>\n",
       "  </thead>\n",
       "  <tbody>\n",
       "    <tr>\n",
       "      <th>0</th>\n",
       "      <td>0.238789</td>\n",
       "      <td>-0.114770</td>\n",
       "      <td>0</td>\n",
       "    </tr>\n",
       "    <tr>\n",
       "      <th>1</th>\n",
       "      <td>0.239651</td>\n",
       "      <td>-0.133134</td>\n",
       "      <td>0</td>\n",
       "    </tr>\n",
       "    <tr>\n",
       "      <th>2</th>\n",
       "      <td>0.238743</td>\n",
       "      <td>-0.114705</td>\n",
       "      <td>0</td>\n",
       "    </tr>\n",
       "    <tr>\n",
       "      <th>3</th>\n",
       "      <td>0.239278</td>\n",
       "      <td>0.887572</td>\n",
       "      <td>0</td>\n",
       "    </tr>\n",
       "    <tr>\n",
       "      <th>4</th>\n",
       "      <td>0.238929</td>\n",
       "      <td>-0.127886</td>\n",
       "      <td>0</td>\n",
       "    </tr>\n",
       "  </tbody>\n",
       "</table>\n",
       "</div>"
      ],
      "text/plain": [
       "        Age  CustAccountBalance  Cluster\n",
       "0  0.238789           -0.114770        0\n",
       "1  0.239651           -0.133134        0\n",
       "2  0.238743           -0.114705        0\n",
       "3  0.239278            0.887572        0\n",
       "4  0.238929           -0.127886        0"
      ]
     },
     "execution_count": 83,
     "metadata": {},
     "output_type": "execute_result"
    }
   ],
   "source": [
    "Model = KMeans(n_clusters=3)\n",
    "Model.fit(df1)\n",
    "df1 ['Cluster'] = Model.predict(df1)\n",
    "df1.head()"
   ]
  },
  {
   "cell_type": "code",
   "execution_count": 84,
   "id": "c1391534",
   "metadata": {
    "id": "c1391534"
   },
   "outputs": [],
   "source": [
    "centers = Model.cluster_centers_"
   ]
  },
  {
   "cell_type": "code",
   "execution_count": 85,
   "id": "ab15e9a0",
   "metadata": {},
   "outputs": [
    {
     "name": "stdout",
     "output_type": "stream",
     "text": [
      "[[ 2.39001581e-01 -1.97325542e-02]\n",
      " [-4.18407072e+00  1.70891317e-01]\n",
      " [-6.71998101e-02  5.67916710e+01]]\n"
     ]
    }
   ],
   "source": [
    "print(centers)"
   ]
  },
  {
   "cell_type": "code",
   "execution_count": 87,
   "id": "94d86a5c",
   "metadata": {
    "id": "94d86a5c",
    "outputId": "d668f49e-638d-47cb-833f-2cbb7ae24aab",
    "scrolled": false
   },
   "outputs": [
    {
     "data": {
      "text/plain": [
       "<AxesSubplot:xlabel='Age', ylabel='CustAccountBalance'>"
      ]
     },
     "execution_count": 87,
     "metadata": {},
     "output_type": "execute_result"
    },
    {
     "data": {
      "image/png": "[encoded data removed]",
      "text/plain": [
       "<Figure size 640x480 with 1 Axes>"
      ]
     },
     "metadata": {},
     "output_type": "display_data"
    }
   ],
   "source": [
    "sns.scatterplot(data = df1 , x = 'Age' , y = 'CustAccountBalance' , hue = 'Cluster')\n",
    "sns.scatterplot(x = centers[ : , 0 ] , y = centers[ : , 1 ] , s = 100  )"
   ]
  },
  {
   "cell_type": "code",
   "execution_count": 91,
   "id": "3700b0cf",
   "metadata": {},
   "outputs": [
    {
     "data": {
      "text/plain": [
       "0.9569948551447998"
      ]
     },
     "execution_count": 91,
     "metadata": {},
     "output_type": "execute_result"
    }
   ],
   "source": [
    "# silhouette_score(df1[['CustAccountBalance' , 'Age']],df1['Cluster'])"
   ]
  },
  {
   "cell_type": "markdown",
   "id": "283f5905",
   "metadata": {
    "id": "283f5905"
   },
   "source": [
    "###### second try cpmbination"
   ]
  },
  {
   "cell_type": "code",
   "execution_count": 147,
   "id": "9406e5c1",
   "metadata": {
    "id": "9406e5c1"
   },
   "outputs": [],
   "source": [
    "df2 = df[['TransactionAmount (INR)' , 'CustAccountBalance']]"
   ]
  },
  {
   "cell_type": "code",
   "execution_count": 148,
   "id": "7dd043c4",
   "metadata": {
    "id": "7dd043c4"
   },
   "outputs": [],
   "source": [
    "scaler = StandardScaler()\n",
    "df2[df2.columns] = scaler.fit_transform(df2[df2.columns])"
   ]
  },
  {
   "cell_type": "code",
   "execution_count": 149,
   "id": "50750ed7",
   "metadata": {
    "id": "50750ed7"
   },
   "outputs": [
    {
     "data": {
      "image/png": "[encoded data removed]",
      "text/plain": [
       "<Figure size 640x480 with 1 Axes>"
      ]
     },
     "metadata": {},
     "output_type": "display_data"
    }
   ],
   "source": [
    "# Elbow method\n",
    "wcss = []\n",
    "for k in range(1 , 11):\n",
    "    Model = KMeans(n_clusters = k, random_state=42)\n",
    "    Model.fit(df2)\n",
    "    wcss.append(Model.inertia_)\n",
    "plt.plot(range(1,11),wcss)\n",
    "plt.title('The Elbow Method')\n",
    "plt.xlabel('Number of clusters')\n",
    "plt.ylabel('Wcss')\n",
    "plt.show()"
   ]
  },
  {
   "cell_type": "code",
   "execution_count": 150,
   "id": "03422ce8",
   "metadata": {
    "id": "03422ce8"
   },
   "outputs": [],
   "source": [
    "Model = KMeans(n_clusters = 3)"
   ]
  },
  {
   "cell_type": "code",
   "execution_count": 151,
   "id": "41476bf5",
   "metadata": {
    "id": "41476bf5",
    "outputId": "4da23cf2-801a-4335-c014-1ce7925acbbb"
   },
   "outputs": [
    {
     "data": {
      "text/html": [
       "<style>#sk-container-id-3 {color: black;}#sk-container-id-3 pre{padding: 0;}#sk-container-id-3 div.sk-toggleable {background-color: white;}#sk-container-id-3 label.sk-toggleable__label {cursor: pointer;display: block;width: 100%;margin-bottom: 0;padding: 0.3em;box-sizing: border-box;text-align: center;}#sk-container-id-3 label.sk-toggleable__label-arrow:before {content: \"▸\";float: left;margin-right: 0.25em;color: #696969;}#sk-container-id-3 label.sk-toggleable__label-arrow:hover:before {color: black;}#sk-container-id-3 div.sk-estimator:hover label.sk-toggleable__label-arrow:before {color: black;}#sk-container-id-3 div.sk-toggleable__content {max-height: 0;max-width: 0;overflow: hidden;text-align: left;background-color: #f0f8ff;}#sk-container-id-3 div.sk-toggleable__content pre {margin: 0.2em;color: black;border-radius: 0.25em;background-color: #f0f8ff;}#sk-container-id-3 input.sk-toggleable__control:checked~div.sk-toggleable__content {max-height: 200px;max-width: 100%;overflow: auto;}#sk-container-id-3 input.sk-toggleable__control:checked~label.sk-toggleable__label-arrow:before {content: \"▾\";}#sk-container-id-3 div.sk-estimator input.sk-toggleable__control:checked~label.sk-toggleable__label {background-color: #d4ebff;}#sk-container-id-3 div.sk-label input.sk-toggleable__control:checked~label.sk-toggleable__label {background-color: #d4ebff;}#sk-container-id-3 input.sk-hidden--visually {border: 0;clip: rect(1px 1px 1px 1px);clip: rect(1px, 1px, 1px, 1px);height: 1px;margin: -1px;overflow: hidden;padding: 0;position: absolute;width: 1px;}#sk-container-id-3 div.sk-estimator {font-family: monospace;background-color: #f0f8ff;border: 1px dotted black;border-radius: 0.25em;box-sizing: border-box;margin-bottom: 0.5em;}#sk-container-id-3 div.sk-estimator:hover {background-color: #d4ebff;}#sk-container-id-3 div.sk-parallel-item::after {content: \"\";width: 100%;border-bottom: 1px solid gray;flex-grow: 1;}#sk-container-id-3 div.sk-label:hover label.sk-toggleable__label {background-color: #d4ebff;}#sk-container-id-3 div.sk-serial::before {content: \"\";position: absolute;border-left: 1px solid gray;box-sizing: border-box;top: 0;bottom: 0;left: 50%;z-index: 0;}#sk-container-id-3 div.sk-serial {display: flex;flex-direction: column;align-items: center;background-color: white;padding-right: 0.2em;padding-left: 0.2em;position: relative;}#sk-container-id-3 div.sk-item {position: relative;z-index: 1;}#sk-container-id-3 div.sk-parallel {display: flex;align-items: stretch;justify-content: center;background-color: white;position: relative;}#sk-container-id-3 div.sk-item::before, #sk-container-id-3 div.sk-parallel-item::before {content: \"\";position: absolute;border-left: 1px solid gray;box-sizing: border-box;top: 0;bottom: 0;left: 50%;z-index: -1;}#sk-container-id-3 div.sk-parallel-item {display: flex;flex-direction: column;z-index: 1;position: relative;background-color: white;}#sk-container-id-3 div.sk-parallel-item:first-child::after {align-self: flex-end;width: 50%;}#sk-container-id-3 div.sk-parallel-item:last-child::after {align-self: flex-start;width: 50%;}#sk-container-id-3 div.sk-parallel-item:only-child::after {width: 0;}#sk-container-id-3 div.sk-dashed-wrapped {border: 1px dashed gray;margin: 0 0.4em 0.5em 0.4em;box-sizing: border-box;padding-bottom: 0.4em;background-color: white;}#sk-container-id-3 div.sk-label label {font-family: monospace;font-weight: bold;display: inline-block;line-height: 1.2em;}#sk-container-id-3 div.sk-label-container {text-align: center;}#sk-container-id-3 div.sk-container {/* jupyter's `normalize.less` sets `[hidden] { display: none; }` but bootstrap.min.css set `[hidden] { display: none !important; }` so we also need the `!important` here to be able to override the default hidden behavior on the sphinx rendered scikit-learn.org. See: https://github.com/scikit-learn/scikit-learn/issues/21755 */display: inline-block !important;position: relative;}#sk-container-id-3 div.sk-text-repr-fallback {display: none;}</style><div id=\"sk-container-id-3\" class=\"sk-top-container\"><div class=\"sk-text-repr-fallback\"><pre>KMeans(n_clusters=3)</pre><b>In a Jupyter environment, please rerun this cell to show the HTML representation or trust the notebook. <br />On GitHub, the HTML representation is unable to render, please try loading this page with nbviewer.org.</b></div><div class=\"sk-container\" hidden><div class=\"sk-item\"><div class=\"sk-estimator sk-toggleable\"><input class=\"sk-toggleable__control sk-hidden--visually\" id=\"sk-estimator-id-3\" type=\"checkbox\" checked><label for=\"sk-estimator-id-3\" class=\"sk-toggleable__label sk-toggleable__label-arrow\">KMeans</label><div class=\"sk-toggleable__content\"><pre>KMeans(n_clusters=3)</pre></div></div></div></div></div>"
      ],
      "text/plain": [
       "KMeans(n_clusters=3)"
      ]
     },
     "execution_count": 151,
     "metadata": {},
     "output_type": "execute_result"
    }
   ],
   "source": [
    "Model.fit(df2)"
   ]
  },
  {
   "cell_type": "code",
   "execution_count": 152,
   "id": "5c8ac0fa",
   "metadata": {
    "id": "5c8ac0fa"
   },
   "outputs": [],
   "source": [
    "df2['Cluster'] = Model.predict(df2)"
   ]
  },
  {
   "cell_type": "code",
   "execution_count": 153,
   "id": "82fddf30",
   "metadata": {
    "id": "82fddf30"
   },
   "outputs": [],
   "source": [
    "centroids = Model.cluster_centers_"
   ]
  },
  {
   "cell_type": "code",
   "execution_count": 154,
   "id": "2556a6ab",
   "metadata": {
    "id": "2556a6ab",
    "outputId": "c48f36d5-c57d-4261-a8f3-358ce940f904",
    "scrolled": true
   },
   "outputs": [
    {
     "data": {
      "image/png": "[encoded data removed]",
      "text/plain": [
       "<Figure size 640x480 with 1 Axes>"
      ]
     },
     "metadata": {},
     "output_type": "display_data"
    }
   ],
   "source": [
    "sns.scatterplot(data = df2 , x = 'TransactionAmount (INR)' , y = 'CustAccountBalance' , hue = 'Cluster' , s = 130)\n",
    "sns.scatterplot(x = centroids[ : , 0] , y = centroids[ : , 1] , s = 200 )\n",
    "plt.show()"
   ]
  },
  {
   "cell_type": "code",
   "execution_count": 155,
   "id": "ef68cd8b",
   "metadata": {
    "id": "ef68cd8b",
    "outputId": "ab8a2cfe-a250-416c-ed3d-2125026350ff"
   },
   "outputs": [
    {
     "data": {
      "text/plain": [
       "array([[-4.44709779e-02, -1.13205901e-02],\n",
       "       [ 1.64910685e+00,  5.67916710e+01],\n",
       "       [ 1.06291482e+01,  4.44621210e-01]])"
      ]
     },
     "execution_count": 155,
     "metadata": {},
     "output_type": "execute_result"
    }
   ],
   "source": [
    "centroids"
   ]
  },
  {
   "cell_type": "code",
   "execution_count": 156,
   "id": "2dc4f9bc",
   "metadata": {},
   "outputs": [
    {
     "data": {
      "text/plain": [
       "0    0.995695\n",
       "2    0.004139\n",
       "1    0.000166\n",
       "Name: Cluster, dtype: float64"
      ]
     },
     "execution_count": 156,
     "metadata": {},
     "output_type": "execute_result"
    }
   ],
   "source": [
    "# check distribution of clusters\n",
    "df2.Cluster.value_counts(normalize=True)"
   ]
  },
  {
   "cell_type": "markdown",
   "id": "0a76a0a7",
   "metadata": {
    "id": "0a76a0a7"
   },
   "source": [
    "#### use whole data to cluster it"
   ]
  },
  {
   "cell_type": "code",
   "execution_count": 157,
   "id": "a2dd8ee9",
   "metadata": {
    "id": "a2dd8ee9"
   },
   "outputs": [],
   "source": [
    "df[df.columns] = scaler.fit_transform(df[df.columns])"
   ]
  },
  {
   "cell_type": "code",
   "execution_count": 158,
   "id": "e9e61098",
   "metadata": {
    "id": "e9e61098"
   },
   "outputs": [],
   "source": [
    "inertia = []\n",
    "for k in range(2 , 20):\n",
    "    Model = KMeans(n_clusters = k)\n",
    "    Model.fit(df)\n",
    "    inertia.append(Model.inertia_)"
   ]
  },
  {
   "cell_type": "code",
   "execution_count": 159,
   "id": "0e037e58",
   "metadata": {
    "id": "0e037e58",
    "outputId": "57f9715b-62cf-4417-8f0e-2e996fc0f640"
   },
   "outputs": [
    {
     "data": {
      "text/plain": [
       "<AxesSubplot:>"
      ]
     },
     "execution_count": 159,
     "metadata": {},
     "output_type": "execute_result"
    },
    {
     "data": {
      "image/png": "[encoded data removed]",
      "text/plain": [
       "<Figure size 640x480 with 1 Axes>"
      ]
     },
     "metadata": {},
     "output_type": "display_data"
    }
   ],
   "source": [
    "sns.lineplot(x = range(2 , 20) , y = inertia)"
   ]
  },
  {
   "cell_type": "code",
   "execution_count": 160,
   "id": "52f6680d",
   "metadata": {
    "id": "52f6680d",
    "outputId": "0916e150-b2c7-4372-8b2a-7709a18b3fc1"
   },
   "outputs": [
    {
     "data": {
      "text/html": [
       "<style>#sk-container-id-4 {color: black;}#sk-container-id-4 pre{padding: 0;}#sk-container-id-4 div.sk-toggleable {background-color: white;}#sk-container-id-4 label.sk-toggleable__label {cursor: pointer;display: block;width: 100%;margin-bottom: 0;padding: 0.3em;box-sizing: border-box;text-align: center;}#sk-container-id-4 label.sk-toggleable__label-arrow:before {content: \"▸\";float: left;margin-right: 0.25em;color: #696969;}#sk-container-id-4 label.sk-toggleable__label-arrow:hover:before {color: black;}#sk-container-id-4 div.sk-estimator:hover label.sk-toggleable__label-arrow:before {color: black;}#sk-container-id-4 div.sk-toggleable__content {max-height: 0;max-width: 0;overflow: hidden;text-align: left;background-color: #f0f8ff;}#sk-container-id-4 div.sk-toggleable__content pre {margin: 0.2em;color: black;border-radius: 0.25em;background-color: #f0f8ff;}#sk-container-id-4 input.sk-toggleable__control:checked~div.sk-toggleable__content {max-height: 200px;max-width: 100%;overflow: auto;}#sk-container-id-4 input.sk-toggleable__control:checked~label.sk-toggleable__label-arrow:before {content: \"▾\";}#sk-container-id-4 div.sk-estimator input.sk-toggleable__control:checked~label.sk-toggleable__label {background-color: #d4ebff;}#sk-container-id-4 div.sk-label input.sk-toggleable__control:checked~label.sk-toggleable__label {background-color: #d4ebff;}#sk-container-id-4 input.sk-hidden--visually {border: 0;clip: rect(1px 1px 1px 1px);clip: rect(1px, 1px, 1px, 1px);height: 1px;margin: -1px;overflow: hidden;padding: 0;position: absolute;width: 1px;}#sk-container-id-4 div.sk-estimator {font-family: monospace;background-color: #f0f8ff;border: 1px dotted black;border-radius: 0.25em;box-sizing: border-box;margin-bottom: 0.5em;}#sk-container-id-4 div.sk-estimator:hover {background-color: #d4ebff;}#sk-container-id-4 div.sk-parallel-item::after {content: \"\";width: 100%;border-bottom: 1px solid gray;flex-grow: 1;}#sk-container-id-4 div.sk-label:hover label.sk-toggleable__label {background-color: #d4ebff;}#sk-container-id-4 div.sk-serial::before {content: \"\";position: absolute;border-left: 1px solid gray;box-sizing: border-box;top: 0;bottom: 0;left: 50%;z-index: 0;}#sk-container-id-4 div.sk-serial {display: flex;flex-direction: column;align-items: center;background-color: white;padding-right: 0.2em;padding-left: 0.2em;position: relative;}#sk-container-id-4 div.sk-item {position: relative;z-index: 1;}#sk-container-id-4 div.sk-parallel {display: flex;align-items: stretch;justify-content: center;background-color: white;position: relative;}#sk-container-id-4 div.sk-item::before, #sk-container-id-4 div.sk-parallel-item::before {content: \"\";position: absolute;border-left: 1px solid gray;box-sizing: border-box;top: 0;bottom: 0;left: 50%;z-index: -1;}#sk-container-id-4 div.sk-parallel-item {display: flex;flex-direction: column;z-index: 1;position: relative;background-color: white;}#sk-container-id-4 div.sk-parallel-item:first-child::after {align-self: flex-end;width: 50%;}#sk-container-id-4 div.sk-parallel-item:last-child::after {align-self: flex-start;width: 50%;}#sk-container-id-4 div.sk-parallel-item:only-child::after {width: 0;}#sk-container-id-4 div.sk-dashed-wrapped {border: 1px dashed gray;margin: 0 0.4em 0.5em 0.4em;box-sizing: border-box;padding-bottom: 0.4em;background-color: white;}#sk-container-id-4 div.sk-label label {font-family: monospace;font-weight: bold;display: inline-block;line-height: 1.2em;}#sk-container-id-4 div.sk-label-container {text-align: center;}#sk-container-id-4 div.sk-container {/* jupyter's `normalize.less` sets `[hidden] { display: none; }` but bootstrap.min.css set `[hidden] { display: none !important; }` so we also need the `!important` here to be able to override the default hidden behavior on the sphinx rendered scikit-learn.org. See: https://github.com/scikit-learn/scikit-learn/issues/21755 */display: inline-block !important;position: relative;}#sk-container-id-4 div.sk-text-repr-fallback {display: none;}</style><div id=\"sk-container-id-4\" class=\"sk-top-container\"><div class=\"sk-text-repr-fallback\"><pre>KMeans()</pre><b>In a Jupyter environment, please rerun this cell to show the HTML representation or trust the notebook. <br />On GitHub, the HTML representation is unable to render, please try loading this page with nbviewer.org.</b></div><div class=\"sk-container\" hidden><div class=\"sk-item\"><div class=\"sk-estimator sk-toggleable\"><input class=\"sk-toggleable__control sk-hidden--visually\" id=\"sk-estimator-id-4\" type=\"checkbox\" checked><label for=\"sk-estimator-id-4\" class=\"sk-toggleable__label sk-toggleable__label-arrow\">KMeans</label><div class=\"sk-toggleable__content\"><pre>KMeans()</pre></div></div></div></div></div>"
      ],
      "text/plain": [
       "KMeans()"
      ]
     },
     "execution_count": 160,
     "metadata": {},
     "output_type": "execute_result"
    }
   ],
   "source": [
    "Model = KMeans(n_clusters = 8)\n",
    "Model.fit(df)"
   ]
  },
  {
   "cell_type": "code",
   "execution_count": 161,
   "id": "d2436206",
   "metadata": {
    "id": "d2436206"
   },
   "outputs": [],
   "source": [
    "df['Cluster'] = Model.predict(df)"
   ]
  },
  {
   "cell_type": "code",
   "execution_count": 162,
   "id": "c5b98af3",
   "metadata": {},
   "outputs": [
    {
     "data": {
      "text/plain": [
       "1    3.245396e-01\n",
       "2    2.156763e-01\n",
       "0    2.118165e-01\n",
       "5    1.911765e-01\n",
       "4    5.326921e-02\n",
       "7    3.354883e-03\n",
       "6    1.660643e-04\n",
       "3    9.599094e-07\n",
       "Name: Cluster, dtype: float64"
      ]
     },
     "execution_count": 162,
     "metadata": {},
     "output_type": "execute_result"
    }
   ],
   "source": [
    "# check distribution of clusters\n",
    "df.Cluster.value_counts(normalize=True)"
   ]
  }
 ],
 "metadata": {
  "colab": {
   "provenance": []
  },
  "kernelspec": {
   "display_name": "Python 3 (ipykernel)",
   "language": "python",
   "name": "python3"
  },
  "language_info": {
   "codemirror_mode": {
    "name": "ipython",
    "version": 3
   },
   "file_extension": ".py",
   "mimetype": "text/x-python",
   "name": "python",
   "nbconvert_exporter": "python",
   "pygments_lexer": "ipython3",
   "version": "3.9.13"
  }
 },
 "nbformat": 4,
 "nbformat_minor": 5
}
